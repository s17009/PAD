{
 "cells": [
  {
   "cell_type": "code",
   "execution_count": 5,
   "metadata": {},
   "outputs": [
    {
     "name": "stdout",
     "output_type": "stream",
     "text": [
      "Wynik funkcji lambda_plus_15 16\n",
      "Wynik funkcji lambda_xy 6\n"
     ]
    }
   ],
   "source": [
    "lambda_plus_15 = lambda x: x+15\n",
    "print(f'Wynik funkcji lambda_plus_15 {lambda_plus_15(1)}')\n",
    "\n",
    "lambda_xy = lambda x,y: x*y\n",
    "print(f'Wynik funkcji lambda_xy {lambda_xy(2,3)}')"
   ]
  },
  {
   "cell_type": "code",
   "execution_count": 11,
   "metadata": {},
   "outputs": [
    {
     "name": "stdout",
     "output_type": "stream",
     "text": [
      "[{'make': 'Mi Max', 'model': 2, 'color': 'Gold'}, {'make': 'Nokia', 'model': 216, 'color': 'Black'}, {'make': 'Samsung', 'model': 7, 'color': 'Blue'}]\n"
     ]
    }
   ],
   "source": [
    "lista = [{'make': 'Nokia', 'model': 216, 'color': 'Black'}, {'make': 'Mi Max', 'model': 2, 'color': 'Gold'}, {'make': 'Samsung', 'model': 7, 'color': 'Blue'}]\n",
    "print (sorted(lista, key = lambda x: x['make']))"
   ]
  },
  {
   "cell_type": "code",
   "execution_count": 26,
   "metadata": {},
   "outputs": [
    {
     "name": "stdout",
     "output_type": "stream",
     "text": [
      "[1, 4, 9, 16, 25, 36, 49, 64, 81, 100]\n",
      "[1, 8, 27, 64, 125, 216, 343, 512, 729, 1000]\n"
     ]
    }
   ],
   "source": [
    "lista = [1, 2, 3, 4, 5, 6, 7, 8, 9, 10]\n",
    "kwadrat = lambda x: x*x\n",
    "szescian = lambda x: x*x*x\n",
    "\n",
    "def kwadratszescianvar(list):\n",
    "    wynikkwadrat = []\n",
    "    wynikszescian = []\n",
    "    for a in list:\n",
    "        wynikkwadrat.append(kwadrat(a))\n",
    "        wynikszescian.append(szescian(a))\n",
    "    print(wynikkwadrat)\n",
    "    print(wynikszescian)\n",
    "\n",
    "kwadratszescianvar(lista)"
   ]
  },
  {
   "cell_type": "code",
   "execution_count": null,
   "metadata": {},
   "outputs": [],
   "source": []
  }
 ],
 "metadata": {
  "interpreter": {
   "hash": "1dd17f4f9dd3086ee9df77a4f54f7c5d3d5ec53146c9cee07447a5f308095740"
  },
  "kernelspec": {
   "display_name": "Python 3.10.2 64-bit",
   "language": "python",
   "name": "python3"
  },
  "language_info": {
   "codemirror_mode": {
    "name": "ipython",
    "version": 3
   },
   "file_extension": ".py",
   "mimetype": "text/x-python",
   "name": "python",
   "nbconvert_exporter": "python",
   "pygments_lexer": "ipython3",
   "version": "3.10.2"
  },
  "orig_nbformat": 4
 },
 "nbformat": 4,
 "nbformat_minor": 2
}
