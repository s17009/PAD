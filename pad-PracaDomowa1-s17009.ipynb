{
 "cells": [
  {
   "cell_type": "code",
   "execution_count": 51,
   "metadata": {},
   "outputs": [],
   "source": [
    "class Animal:\n",
    "    def __init__(self,genus,gender=\"Female\"):\n",
    "        self.isAlive = True\n",
    "        self.gender = gender\n",
    "        self.genus = genus\n",
    "\n",
    "    def breed(self, partner):\n",
    "        if self.gender=='Female' and partner.gender=='Male' and self.genus == partner.genus:\n",
    "            if self.genus == 'Canis':\n",
    "                return Dog()\n",
    "            else:\n",
    "                return Cat()\n",
    "        if partner.genus is None:\n",
    "            print(\"attribute not found\")\n",
    "class Dog(Animal):\n",
    "    def __init__(self,gender):\n",
    "        super().__init__('Canis',gender)\n",
    "    def woof(self):\n",
    "        print(\"woof woof\")\n",
    "class Cat(Animal):\n",
    "    def __init__(self,gender):\n",
    "        super().__init__('Felis',gender)\n",
    "    def purr(self):\n",
    "        print(\"purr\")\n"
   ]
  },
  {
   "cell_type": "code",
   "execution_count": 54,
   "metadata": {},
   "outputs": [
    {
     "name": "stdout",
     "output_type": "stream",
     "text": [
      "woof woof\n",
      "purr\n"
     ]
    }
   ],
   "source": [
    "dog1f = Dog('Female')\n",
    "dog2m = Dog('Male')\n",
    "\n",
    "dog1f.woof()\n",
    "\n",
    "cat1f = Cat('Female')\n",
    "cat2m = Cat('Male')\n",
    "\n",
    "cat1f.purr()"
   ]
  },
  {
   "cell_type": "code",
   "execution_count": 22,
   "metadata": {},
   "outputs": [
    {
     "data": {
      "text/plain": [
       "<__main__.Dog at 0x27879d0e320>"
      ]
     },
     "execution_count": 22,
     "metadata": {},
     "output_type": "execute_result"
    }
   ],
   "source": [
    "dog1f.breed(dog2m)"
   ]
  },
  {
   "cell_type": "code",
   "execution_count": 23,
   "metadata": {},
   "outputs": [],
   "source": [
    "cat1f = Animal('Felis')"
   ]
  },
  {
   "cell_type": "code",
   "execution_count": 24,
   "metadata": {},
   "outputs": [],
   "source": [
    "dog1f.breed(cat1f)"
   ]
  },
  {
   "cell_type": "code",
   "execution_count": 25,
   "metadata": {},
   "outputs": [],
   "source": [
    "class Worker:\n",
    "    workers = []\n",
    "    def __init__(self,name,age,salary):\n",
    "        self.salary = salary\n",
    "        self.name = name\n",
    "        self.age = age\n",
    "        self.workers.append(self)\n",
    "    def getSalary(self):\n",
    "        print(self.salary)\n",
    "\n",
    "    def getWorkers(self):\n",
    "        i=1\n",
    "        for obj in self.workers:\n",
    "            print(i,str(obj.name),str(obj.age),str(obj.salary))\n",
    "            i = i+1\n",
    "        #print(self.workers)\n",
    "    def getAvgSalary(self):\n",
    "        licznik = 0\n",
    "        all = 0\n",
    "        for obj in self.workers:\n",
    "            licznik = licznik + 1\n",
    "            all = all + obj.salary\n",
    "        avg = all/licznik\n",
    "        print(avg)\n",
    "\n",
    "\n",
    "    def getAvgSalaryDiffAge(self):\n",
    "        age = 30\n",
    "        licznik1 = 0\n",
    "        all1 = 0\n",
    "        licznik2 = 0\n",
    "        all2 = 0\n",
    "        for obj in self.workers:\n",
    "            if 2022-obj.age <= age:\n",
    "                licznik1 = licznik1 + 1\n",
    "                all1 = all1 + obj.salary\n",
    "            else:\n",
    "                licznik2 = licznik2 + 1\n",
    "                all2 = all2 + obj.salary\n",
    "        avg1 = all1/licznik1\n",
    "        avg2 = all2/licznik2\n",
    "        print(avg1-avg2)"
   ]
  },
  {
   "cell_type": "code",
   "execution_count": 26,
   "metadata": {},
   "outputs": [
    {
     "name": "stdout",
     "output_type": "stream",
     "text": [
      "1 Adam 1983 1500\n",
      "2 Anna 1981 1700\n",
      "3 Błażej 1990 1800\n",
      "4 Beata 1992 1600\n",
      "5 Czesław 1980 2000\n",
      "6 Cecylia 1983 2100\n",
      "7 Daniel 1976 1900\n",
      "1800.0\n",
      "-233.33333333333326\n"
     ]
    }
   ],
   "source": [
    "w1 = Worker(\"Adam\",1983,1500)\n",
    "w2 = Worker(\"Anna\",1981,1700)\n",
    "w3 = Worker(\"Błażej\",1990,1800)\n",
    "w4 = Worker(\"Beata\",1992,1600)\n",
    "w5 = Worker(\"Czesław\",1980,2000)\n",
    "w6 = Worker(\"Cecylia\",1983,2100)\n",
    "w7 = Worker(\"Daniel\",1976,1900)\n",
    "\n",
    "\n",
    "w1.getWorkers()\n",
    "w1.getAvgSalary()\n",
    "w1.getAvgSalaryDiffAge()"
   ]
  },
  {
   "cell_type": "markdown",
   "metadata": {},
   "source": []
  }
 ],
 "metadata": {
  "interpreter": {
   "hash": "ac59ebe37160ed0dfa835113d9b8498d9f09ceb179beaac4002f036b9467c963"
  },
  "kernelspec": {
   "display_name": "Python 3.9.6 64-bit",
   "name": "python3"
  },
  "language_info": {
   "codemirror_mode": {
    "name": "ipython",
    "version": 3
   },
   "file_extension": ".py",
   "mimetype": "text/x-python",
   "name": "python",
   "nbconvert_exporter": "python",
   "pygments_lexer": "ipython3",
   "version": "3.10.2"
  },
  "orig_nbformat": 4
 },
 "nbformat": 4,
 "nbformat_minor": 2
}
